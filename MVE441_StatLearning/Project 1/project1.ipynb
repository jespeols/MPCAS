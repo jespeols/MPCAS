{
 "cells": [
  {
   "attachments": {},
   "cell_type": "markdown",
   "metadata": {},
   "source": [
    "## Project 1 - Mislabeled data ##\n",
    "Initialize and split data"
   ]
  },
  {
   "cell_type": "code",
   "execution_count": 248,
   "metadata": {},
   "outputs": [],
   "source": [
    "import pandas as pd\n",
    "import numpy as np\n",
    "import seaborn as sns\n",
    "from sklearn.neighbors import KNeighborsClassifier\n",
    "from sklearn.linear_model import LogisticRegression\n",
    "from sklearn.preprocessing import StandardScaler\n",
    "from sklearn.discriminant_analysis import LinearDiscriminantAnalysis as LDA\n",
    "from sklearn.discriminant_analysis import QuadraticDiscriminantAnalysis as QDA\n",
    "from sklearn.model_selection import KFold, cross_val_score\n",
    "from sklearn.metrics import accuracy_score, precision_score, recall_score, classification_report, confusion_matrix"
   ]
  },
  {
   "attachments": {},
   "cell_type": "markdown",
   "metadata": {},
   "source": [
    "Mislabel data, three levels "
   ]
  },
  {
   "cell_type": "code",
   "execution_count": 274,
   "metadata": {},
   "outputs": [
    {
     "name": "stdout",
     "output_type": "stream",
     "text": [
      "(768, 9)\n",
      "Outcome\n",
      "0    500\n",
      "1    268\n",
      "dtype: int64\n",
      "Accuracy from predicting only zeros in test data:  0.6233766233766234\n",
      "Number of rows in training data:  614\n",
      "Number of rows in test data:  154\n"
     ]
    }
   ],
   "source": [
    "dataset = pd.read_csv('diabetes.csv')\n",
    "print(dataset.shape)\n",
    "print(dataset.value_counts('Outcome')) #check class imbalance\n",
    "\n",
    "# Split the dataset into training and test sets\n",
    "train_data = dataset.sample(frac=0.8, random_state=42) # 80% of the data for training\n",
    "test_data = dataset.drop(train_data.index) # remaining 20% for testing, due to the seed this data will always be the same\n",
    "\n",
    "# split test data into features and labels\n",
    "X_test = test_data.drop('Outcome', axis=1)\n",
    "y_test = test_data['Outcome']\n",
    "\n",
    "n_zeros = len(y_test) - np.count_nonzero(y_test)\n",
    "print(\"Accuracy from predicting only zeros in test data: \", n_zeros/len(y_test))\n",
    "\n",
    "# Print the number of rows in each dataset to check that the split worked correctly\n",
    "print(\"Number of rows in training data: \", len(train_data))\n",
    "print(\"Number of rows in test data: \", len(test_data))\n",
    "\n",
    "# mislabel a fraction of the training data\n",
    "fraction = 0.01 # fraction of data to mislabel\n",
    "mislabeled_indices = np.random.choice(train_data.index, int(fraction*len(train_data)), replace=False)\n",
    "train_data.loc[mislabeled_indices, 'Outcome'] = np.abs(train_data.loc[mislabeled_indices, 'Outcome']-1) # flip 0 to 1, or 1 to 0"
   ]
  },
  {
   "attachments": {},
   "cell_type": "markdown",
   "metadata": {},
   "source": [
    "Analyse Data \\\n",
    "kNN"
   ]
  },
  {
   "cell_type": "code",
   "execution_count": 275,
   "metadata": {},
   "outputs": [
    {
     "name": "stdout",
     "output_type": "stream",
     "text": [
      "Best k value: 18\n",
      "Test Accuracy:\n",
      "Accuracy:  0.7532467532467533\n"
     ]
    }
   ],
   "source": [
    "X_train = train_data.drop('Outcome', axis=1)\n",
    "y_train = train_data['Outcome']\n",
    "\n",
    "# Define k-fold cross validation object\n",
    "k_values = list(range(1, 20))\n",
    "num_folds = 10\n",
    "kf = KFold(n_splits=num_folds, shuffle=True)\n",
    "mean_scores = [] # Will contain the mean cross validation scores for each k value\n",
    "\n",
    "\n",
    "# Loop over k values to test\n",
    "for k in k_values:\n",
    "    # Create kNN classifier with k neighbors\n",
    "    knn = KNeighborsClassifier(n_neighbors=k)\n",
    "    \n",
    "    # Use cross_val_score to perform k-fold cross validation and calculate mean accuracy\n",
    "    scores = cross_val_score(knn, X_train, y_train, cv=kf, scoring='accuracy')\n",
    "    mean_scores.append(np.mean(scores))\n",
    "\n",
    "best_k = k_values[np.argmax(mean_scores)]\n",
    "print(f\"Best k value: {best_k}\")\n",
    "\n",
    "\n",
    "# Evaluate the classifier on the test set\n",
    "knn = KNeighborsClassifier(n_neighbors=best_k)\n",
    "knn.fit(X_train, y_train)\n",
    "y_pred = knn.predict(X_test)\n",
    "\n",
    "accuracy = accuracy_score(y_test, y_pred)\n",
    "print(\"Test Accuracy:\")\n",
    "print(\"Accuracy: \", accuracy)"
   ]
  },
  {
   "attachments": {},
   "cell_type": "markdown",
   "metadata": {},
   "source": [
    "Logistic Regression"
   ]
  },
  {
   "cell_type": "code",
   "execution_count": 276,
   "metadata": {},
   "outputs": [
    {
     "name": "stdout",
     "output_type": "stream",
     "text": [
      "Test Accuracy: 0.7467532467532467\n"
     ]
    },
    {
     "name": "stderr",
     "output_type": "stream",
     "text": [
      "c:\\Users\\Jesper\\AppData\\Local\\Programs\\Python\\Python311\\Lib\\site-packages\\sklearn\\linear_model\\_logistic.py:458: ConvergenceWarning: lbfgs failed to converge (status=1):\n",
      "STOP: TOTAL NO. of ITERATIONS REACHED LIMIT.\n",
      "\n",
      "Increase the number of iterations (max_iter) or scale the data as shown in:\n",
      "    https://scikit-learn.org/stable/modules/preprocessing.html\n",
      "Please also refer to the documentation for alternative solver options:\n",
      "    https://scikit-learn.org/stable/modules/linear_model.html#logistic-regression\n",
      "  n_iter_i = _check_optimize_result(\n"
     ]
    }
   ],
   "source": [
    "model = LogisticRegression()\n",
    "model.fit(X_train, y_train)\n",
    "y_pred = model.predict(X_test)\n",
    "\n",
    "print(\"Test Accuracy:\", accuracy_score(y_test, y_pred))"
   ]
  },
  {
   "attachments": {},
   "cell_type": "markdown",
   "metadata": {},
   "source": [
    "LDA"
   ]
  },
  {
   "cell_type": "code",
   "execution_count": 277,
   "metadata": {},
   "outputs": [
    {
     "name": "stdout",
     "output_type": "stream",
     "text": [
      "Test Accuracy: 0.7402597402597403\n"
     ]
    }
   ],
   "source": [
    "clf = LDA(solver='eigen')\n",
    "clf.fit(X_train, y_train)\n",
    "\n",
    "y_pred = clf.predict(X_test)\n",
    "print(\"Test Accuracy:\", accuracy_score(y_test, y_pred))"
   ]
  }
 ],
 "metadata": {
  "kernelspec": {
   "display_name": "Python 3",
   "language": "python",
   "name": "python3"
  },
  "language_info": {
   "codemirror_mode": {
    "name": "ipython",
    "version": 3
   },
   "file_extension": ".py",
   "mimetype": "text/x-python",
   "name": "python",
   "nbconvert_exporter": "python",
   "pygments_lexer": "ipython3",
   "version": "3.11.0"
  },
  "orig_nbformat": 4
 },
 "nbformat": 4,
 "nbformat_minor": 2
}
