{
 "cells": [
  {
   "attachments": {},
   "cell_type": "markdown",
   "metadata": {},
   "source": [
    "## Project 1 - Test file ##\n",
    "Import Packages"
   ]
  },
  {
   "cell_type": "code",
   "execution_count": 19,
   "metadata": {},
   "outputs": [],
   "source": [
    "import numpy as np\n",
    "import pandas as pd\n",
    "from sklearn.datasets import make_classification\n",
    "from sklearn.ensemble import RandomForestClassifier \n",
    "from sklearn.model_selection import cross_validate"
   ]
  },
  {
   "attachments": {},
   "cell_type": "markdown",
   "metadata": {},
   "source": [
    "Generate dataset, using scikit-learn built-in tool. Data is normally distributed with std. dev = 1. The data will have two classes, with 7 features where 2 are informative, 2 are redundant and remaining 3 are useless. The training data will have noisy labels, while the test data has the same  "
   ]
  },
  {
   "cell_type": "code",
   "execution_count": 17,
   "metadata": {},
   "outputs": [],
   "source": [
    "X_train, y_train = make_classification(n_samples=1000, n_features=7, n_informative=5, n_redundant=2, flip_y=0.0)\n",
    "X_test, y_test = make_classification(n_samples=250, n_features=7, n_informative=5, n_redundant=2, flip_y=0.0)"
   ]
  },
  {
   "attachments": {},
   "cell_type": "markdown",
   "metadata": {},
   "source": [
    "Convert datasets into pandas DataFrame"
   ]
  },
  {
   "cell_type": "code",
   "execution_count": 12,
   "metadata": {},
   "outputs": [],
   "source": [
    "train_data = pd.DataFrame(X_train)\n",
    "train_data.columns = ['X1', 'X2', 'X3', 'X4', 'X5', 'X6', 'X7']\n",
    "train_data['y'] = y_train\n",
    "\n",
    "test_data = pd.DataFrame(X_test)\n",
    "test_data.columns = ['X1', 'X2', 'X3', 'X4', 'X5', 'X6', 'X7']\n",
    "test_data['y'] = y_test"
   ]
  },
  {
   "attachments": {},
   "cell_type": "markdown",
   "metadata": {},
   "source": [
    "Basic RF Classifier"
   ]
  },
  {
   "cell_type": "code",
   "execution_count": 22,
   "metadata": {},
   "outputs": [
    {
     "data": {
      "text/plain": [
       "fit_time           0.1712\n",
       "score_time         0.0090\n",
       "test_accuracy      0.9700\n",
       "train_accuracy     1.0000\n",
       "test_precision     0.9674\n",
       "train_precision    1.0000\n",
       "test_recall        0.9740\n",
       "train_recall       1.0000\n",
       "test_f1            0.9703\n",
       "train_f1           1.0000\n",
       "dtype: float64"
      ]
     },
     "execution_count": 22,
     "metadata": {},
     "output_type": "execute_result"
    }
   ],
   "source": [
    "classifier = RandomForestClassifier()\n",
    "\n",
    "scores = cross_validate(classifier, X_train, y_train, cv=10, scoring=['accuracy', 'precision', 'recall', 'f1'], return_train_score=True)\n",
    "scores = pd.DataFrame(scores)\n",
    "scores.mean().round(4)"
   ]
  }
 ],
 "metadata": {
  "kernelspec": {
   "display_name": "Python 3",
   "language": "python",
   "name": "python3"
  },
  "language_info": {
   "codemirror_mode": {
    "name": "ipython",
    "version": 3
   },
   "file_extension": ".py",
   "mimetype": "text/x-python",
   "name": "python",
   "nbconvert_exporter": "python",
   "pygments_lexer": "ipython3",
   "version": "3.11.0"
  },
  "orig_nbformat": 4
 },
 "nbformat": 4,
 "nbformat_minor": 2
}
